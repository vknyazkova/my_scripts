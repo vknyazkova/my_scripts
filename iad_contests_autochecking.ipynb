{
 "cells": [
  {
   "cell_type": "code",
   "execution_count": 88,
   "id": "8ebd20fa",
   "metadata": {},
   "outputs": [],
   "source": [
    "import os\n",
    "from collections import defaultdict\n",
    "import copy\n",
    "from functools import partial"
   ]
  },
  {
   "cell_type": "markdown",
   "id": "cccbed2f",
   "metadata": {},
   "source": [
    "## Парсинг папки и оценивание"
   ]
  },
  {
   "cell_type": "code",
   "execution_count": 87,
   "id": "da764223",
   "metadata": {},
   "outputs": [],
   "source": [
    "class ContestsEvaluator():\n",
    "\n",
    "    ALL = {'A', 'B', 'C', 'D', 'E', 'F', 'G', 'H', 'I', 'J', 'K', 'L', 'M', 'N', 'O', 'P', 'Q', 'R', 'S', 'T', 'U', 'V', 'W', 'X'}\n",
    "    \n",
    "    def __init__(self, my_students: dict, \n",
    "                 submit_folder: str, \n",
    "                 last_submit_on_time: int,\n",
    "                 extra_tasks: list = [],\n",
    "                 extra_point_threshold : int = 1):\n",
    "        \n",
    "        self.STUDENTS = my_students\n",
    "        self.submit_folder = submit_folder\n",
    "        self.extra_tasks = set(extra_tasks)\n",
    "        self.last_before_deadline = int(last_submit_on_time)\n",
    "        \n",
    "        self.all_folders = [students for students in os.listdir(submit_folder)]\n",
    "        self.compulsory = self.ALL - self.extra_tasks\n",
    "        self.max = len(self.compulsory)\n",
    "        self.extra_point_threshold = extra_point_threshold\n",
    "        \n",
    "        template = {'ok_submits': {},\n",
    "                   'points': 0,\n",
    "                   'extra_point': 0,\n",
    "                   'after_deadline_tasks': {}}\n",
    "        \n",
    "        self.students_results = {self.STUDENTS[st]: copy.deepcopy(template) for st in self.STUDENTS}\n",
    "        \n",
    "    def _find_my_students(self):\n",
    "        self.my_students_folders = {}\n",
    "        for folder in self.all_folders:\n",
    "            student = '-'.join(folder.split('-')[:-1])\n",
    "            if student in self.STUDENTS.values():\n",
    "                self.my_students_folders[student] = os.path.join(self.submit_folder, folder)\n",
    "            elif student in self.STUDENTS:\n",
    "                self.my_students_folders[STUDENTS[student]] = os.path.join(self.submit_folder, folder)\n",
    "            elif len([st for st in self.STUDENTS.values() if st.startswith(student)]):\n",
    "                student = [st for st in self.STUDENTS.values() if st.startswith(student)][0]\n",
    "                self.my_students_folders[student] = os.path.join(self.submit_folder, folder)\n",
    "    \n",
    "    def _ok_solutions(self, solutions_list):\n",
    "        ok = defaultdict(list)\n",
    "        for solution in solutions_list:\n",
    "            properties = solution.split('-')\n",
    "            status = properties[-1]\n",
    "            task = properties[0]\n",
    "            send_id = properties[1]\n",
    "            if status == 'OK.py':\n",
    "                ok[task].append(send_id)\n",
    "        return ok\n",
    "    \n",
    "    def _extra_point(self, done_extra):\n",
    "        extra_point = 0\n",
    "        if len(done_extra) >= self.extra_point_threshold:\n",
    "            extra_point += 1\n",
    "        return extra_point\n",
    "    \n",
    "    def _evaluate_student(self, student):\n",
    "        student_folder = self.my_students_folders[student]\n",
    "        all_submits = os.listdir(student_folder)\n",
    "        right_solutions = self._ok_solutions(all_submits)\n",
    "        self.students_results[student]['ok_submits'] = right_solutions\n",
    "        \n",
    "    def count_points(self, extra_point_rule = None):\n",
    "        for student in self.my_students_folders:\n",
    "            \n",
    "            right_tasks = self.students_results[student]['ok_submits'].keys() \n",
    "            \n",
    "            self._after_deadline_tasks(student)\n",
    "            ignore_tasks = self.students_results[student]['after_deadline_tasks']\n",
    "            right_tasks = set(right_tasks) - set(ignore_tasks)\n",
    "            \n",
    "            points = len(right_tasks & self.compulsory)\n",
    "            \n",
    "            done_extra = right_tasks & self.extra_tasks\n",
    "            if not extra_point_rule:\n",
    "                extra_point = self._extra_point(done_extra)\n",
    "            else:\n",
    "                rule = partial(extra_point_rule, done_extra=done_extra)\n",
    "                extra_point = rule()\n",
    "                \n",
    "            all_points = {\n",
    "                'points': points,\n",
    "                'extra_point': extra_point\n",
    "            }\n",
    "            self.students_results[student].update(all_points)\n",
    "    \n",
    "    def check_contest(self):\n",
    "        self._find_my_students()\n",
    "        for student in self.my_students_folders:\n",
    "            self._evaluate_student(student)\n",
    "            \n",
    "    def _after_deadline_tasks(self, student):\n",
    "        submits = self.students_results[student]['ok_submits']\n",
    "        after_deadl_submits = [submit for task in submits for submit in submits[task] if int(submit) > self.last_before_deadline]\n",
    "        \n",
    "        tasks_to_ignore = []\n",
    "        for task in submits:\n",
    "            if not (set(submits[task]) - set(after_deadl_submits)):\n",
    "                tasks_to_ignore.append(task)\n",
    "        self.students_results[student]['after_deadline_tasks'] = tasks_to_ignore\n",
    "        \n",
    "    def get_results(self):\n",
    "        results = []\n",
    "        for student in sorted(self.students_results):\n",
    "            submitted = sorted(self.students_results[student]['ok_submits'].keys())\n",
    "            compulsory = ' '.join([task for task in submitted if task in self.compulsory]) # без учета дедлайна\n",
    "            extra = ' '.join([task for task in submitted if task in self.extra_tasks]) # без учета дедлайна\n",
    "            points = self.students_results[student]['points']\n",
    "            extra_points = self.students_results[student]['extra_point']\n",
    "            after_deadline = ' '.join(self.students_results[student]['after_deadline_tasks'])\n",
    "            results.append([student,\n",
    "                            compulsory, \n",
    "                            extra, \n",
    "                            points, \n",
    "                            extra_points, \n",
    "                            after_deadline])\n",
    "        return results\n",
    "    \n",
    "    def get_hw_parameters(self):\n",
    "        parameters = [\n",
    "            ['compulsory tasks', ' '.join(sorted(self.compulsory))],\n",
    "            ['extra tasks', ' '.join(sorted(self.extra_tasks))],\n",
    "            ['max', self.max]\n",
    "        ]\n",
    "        return parameters"
   ]
  },
  {
   "cell_type": "code",
   "execution_count": 48,
   "id": "e3fc969e",
   "metadata": {},
   "outputs": [],
   "source": [
    "# {логин: фио} (потому что иногда в посылках не фио, а логин)\n",
    "STUDENTS = { \n",
    "    'hse-minor-2022-5': \"Агаджанов Хусейин Рафиг оглы\", \n",
    "    \"hse-minor-2022-20\": \"Баталова Анна Алексеевна\", \n",
    "    \"hse-minor-2022-32\": \"Бромирская Анна Сергеевна\",\n",
    "    \"hse-minor-2022-60\": \"Гришин Николай Константинович\",\n",
    "    \"hse-minor-2022-69\": \"Дмитриев Александр Антонович\",\n",
    "    \"hse-minor-2022-95\": \"Каневский Дмитрий Маркович\",\n",
    "    \"hse-minor-2022-141\": \"Максюта Софья Сергеевна\",\n",
    "    \"hse-minor-2022-153\": \"Михайлова Элина Эдуардовна\",\n",
    "    \"hse-minor-2022-273\": \"Негробова Полина Дмитриевна\",\n",
    "    \"hse-minor-2022-175\": \"Одинцов Олег Александрович\",\n",
    "    \"hse-minor-2022-195\": \"Рассудимова Надежда Михайловна\",\n",
    "    \"hse-minor-2022-216\": \"Тарбеев Вячеслав Владимирович\",\n",
    "    \"hse-minor-2022-227\": \"Федорова Екатерина Михайловна\",\n",
    "    \"hse-minor-2022-240\": \"Цыкунов Никита Дмитриевич\",\n",
    "    \"hse-minor-2022-260\": \"Щеголев Даниил Витальевич\",\n",
    "}\n",
    "\n",
    "path_to_folder = '.\\submits_2' #путь к папке с распакованным архивом всех посылок\n",
    "hw = 'дз2'\n",
    "extra_tasks = ['A', 'T', 'U', 'W', 'X'] # задачи со звездочкой\n",
    "\n",
    "# NB! на странице со всеми посылками время +3 часа (последняя посылка будет следующим днем до 02:59:59)\n",
    "last_on_time = '71649855'\n",
    "\n",
    "extra_point_threshold = 1 # сколько задач со звездочкой надо решить, чтобы получить доп балл"
   ]
  },
  {
   "cell_type": "code",
   "execution_count": 49,
   "id": "ffe1e005",
   "metadata": {},
   "outputs": [],
   "source": [
    "cont_eval = ContestsEvaluator(my_students=STUDENTS,\n",
    "                              submit_folder=path_to_folder, \n",
    "                              last_submit_on_time = last_on_time,\n",
    "                              extra_tasks=extra_tasks,\n",
    "                              extra_point_threshold=extra_point_threshold)\n",
    "cont_eval.check_contest() \n",
    "cont_eval.count_points()"
   ]
  },
  {
   "cell_type": "markdown",
   "id": "06a76617",
   "metadata": {},
   "source": [
    "## Запись результатов в файл"
   ]
  },
  {
   "cell_type": "markdown",
   "id": "bc38e8eb",
   "metadata": {},
   "source": [
    "### Запись в гугл табличку"
   ]
  },
  {
   "cell_type": "code",
   "execution_count": null,
   "id": "8f35248c",
   "metadata": {},
   "outputs": [],
   "source": [
    "import gspread"
   ]
  },
  {
   "cell_type": "code",
   "execution_count": 52,
   "id": "859e872a",
   "metadata": {},
   "outputs": [],
   "source": [
    "gc = gspread.service_account(filename='credentials.json')\n",
    "sh = gc.open(\"iad-hw-checking\")\n",
    "hw_sheet = sh.worksheet(hw)"
   ]
  },
  {
   "cell_type": "code",
   "execution_count": 56,
   "id": "d6eab643",
   "metadata": {},
   "outputs": [
    {
     "data": {
      "text/plain": [
       "{'spreadsheetId': '1YSLCzG70fxVhJHBgqMCHkHvEonaIP1bmpvHZbKHvjms',\n",
       " 'updatedRange': \"'дз2'!A2:F16\",\n",
       " 'updatedRows': 15,\n",
       " 'updatedColumns': 6,\n",
       " 'updatedCells': 90}"
      ]
     },
     "execution_count": 56,
     "metadata": {},
     "output_type": "execute_result"
    }
   ],
   "source": [
    "hw_sheet.update('A19:B21', cont_eval.get_hw_parameters())\n",
    "hw_sheet.update('A2:F16', cont_eval.get_results())"
   ]
  },
  {
   "cell_type": "markdown",
   "id": "ac22f693",
   "metadata": {},
   "source": [
    "### Запись в csv файл"
   ]
  },
  {
   "cell_type": "code",
   "execution_count": 89,
   "id": "d114eec3",
   "metadata": {},
   "outputs": [],
   "source": [
    "import csv"
   ]
  },
  {
   "cell_type": "code",
   "execution_count": 92,
   "id": "b0db9dcd",
   "metadata": {},
   "outputs": [],
   "source": [
    "path_to_csv = os.path.join(path_to_folder, f'{hw}.csv')\n",
    "\n",
    "with open(path_to_csv, 'w', newline='') as csvfile:\n",
    "    writer = csv.writer(csvfile, delimiter=',',\n",
    "                            quotechar='|', quoting=csv.QUOTE_MINIMAL)\n",
    "    writer.writerow(['Student', 'Done compulsory', 'Done extra', 'Points', 'Extra point', 'After deadline tasks'])\n",
    "    writer.writerows(cont_eval.get_results())\n",
    "    writer.writerows([[], []])\n",
    "    writer.writerows(cont_eval.get_hw_parameters())"
   ]
  },
  {
   "cell_type": "markdown",
   "id": "65aa69e1",
   "metadata": {},
   "source": [
    "## Создание файлов с решениями"
   ]
  },
  {
   "cell_type": "code",
   "execution_count": null,
   "id": "1b6b8c29",
   "metadata": {},
   "outputs": [],
   "source": [
    "import shutil"
   ]
  },
  {
   "cell_type": "code",
   "execution_count": 82,
   "id": "02f06dd5",
   "metadata": {},
   "outputs": [],
   "source": [
    "def aggregate_submits(evaluated_contest):\n",
    "    \n",
    "    task_submits = defaultdict(list) # {task: [(submit_path, student_name)]}\n",
    "    for student in evaluated_contest.my_students_folders:\n",
    "        folder = evaluated_contest.my_students_folders[student]\n",
    "        for file in os.listdir(folder):\n",
    "            properties = file.split('-')\n",
    "            status = properties[-1]\n",
    "            task = properties[0]\n",
    "            submit_id = properties[1] \n",
    "            if status == 'OK.py' and int(submit_id) <= evaluated_contest.last_before_deadline:\n",
    "                task_submits[task].append((os.path.join(folder, file), student))  \n",
    "    return task_submits"
   ]
  },
  {
   "cell_type": "code",
   "execution_count": 84,
   "id": "1a116e58",
   "metadata": {},
   "outputs": [],
   "source": [
    "def write_aggregated(evaluated_contest_obj,\n",
    "                     folder_path = os.path.join(path_to_folder, '_my-students-submits')):\n",
    "    \n",
    "    if not os.path.exists(folder_path):\n",
    "        os.makedirs(folder_path)\n",
    "    \n",
    "    task_submits = aggregate_submits(evaluated_contest_obj)\n",
    "    for task in task_submits:\n",
    "        task_solutions = []\n",
    "        for submit_path, student in task_submits[task]:\n",
    "            with open(submit_path, 'r', encoding='utf-8') as f:\n",
    "                    code = f.read()\n",
    "            task_solutions.append('#' + student + '\\n' + code + '\\n\\n')\n",
    "\n",
    "        newf_name = os.path.join(tasks_folder, f'task_{task}.py')\n",
    "        with open(newf_name, 'w', encoding='utf-8') as newf:\n",
    "            newf.writelines(task_solutions)"
   ]
  },
  {
   "cell_type": "code",
   "execution_count": 86,
   "id": "fa020cd3",
   "metadata": {},
   "outputs": [],
   "source": [
    "folder_path = os.path.join(path_to_folder, '_my-students-submits') #\n",
    "\n",
    "write_aggregated(cont_eval, folder_path)"
   ]
  }
 ],
 "metadata": {
  "kernelspec": {
   "display_name": "Python 3 (ipykernel)",
   "language": "python",
   "name": "python3"
  },
  "language_info": {
   "codemirror_mode": {
    "name": "ipython",
    "version": 3
   },
   "file_extension": ".py",
   "mimetype": "text/x-python",
   "name": "python",
   "nbconvert_exporter": "python",
   "pygments_lexer": "ipython3",
   "version": "3.9.12"
  }
 },
 "nbformat": 4,
 "nbformat_minor": 5
}
